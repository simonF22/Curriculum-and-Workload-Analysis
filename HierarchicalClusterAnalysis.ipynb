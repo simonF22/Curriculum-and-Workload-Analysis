{
  "nbformat": 4,
  "nbformat_minor": 0,
  "metadata": {
    "colab": {
      "provenance": [],
      "authorship_tag": "ABX9TyN45h9SyZXsuekDM4YR4FxK",
      "include_colab_link": true
    },
    "kernelspec": {
      "name": "python3",
      "display_name": "Python 3"
    },
    "language_info": {
      "name": "python"
    }
  },
  "cells": [
    {
      "cell_type": "markdown",
      "metadata": {
        "id": "view-in-github",
        "colab_type": "text"
      },
      "source": [
        "<a href=\"https://colab.research.google.com/github/simonF22/Curriculum-and-Workload-Analysis/blob/main/HierarchicalClusterAnalysis.ipynb\" target=\"_parent\"><img src=\"https://colab.research.google.com/assets/colab-badge.svg\" alt=\"Open In Colab\"/></a>"
      ]
    },
    {
      "cell_type": "markdown",
      "source": [
        "**This program is designed to read a spreadsheet containing the three principal components (from the PCA dimensionality reduction), for each response from the student survey, in order to calculate the mean principal component by course.**"
      ],
      "metadata": {
        "id": "TILczz8iTfK-"
      }
    },
    {
      "cell_type": "markdown",
      "source": [
        "**FOLLOW STEPS IN SEQUENTIAL ORDER**"
      ],
      "metadata": {
        "id": "AyL8P9E4hCax"
      }
    },
    {
      "cell_type": "markdown",
      "source": [
        "**STEP 1: Upload Spreadsheet (File can be found in GitHub Repo - \"Course_PCA.xlsx\"**"
      ],
      "metadata": {
        "id": "mSyrU1BCgFmV"
      }
    },
    {
      "cell_type": "code",
      "execution_count": null,
      "metadata": {
        "id": "8ObABnBMH1zo"
      },
      "outputs": [],
      "source": [
        "import pandas as pd\n",
        "from google.colab import files\n",
        "import numpy as np\n",
        "from sklearn.cluster import AgglomerativeClustering\n",
        "from scipy.cluster.hierarchy import dendrogram, linkage\n",
        "import matplotlib.pyplot as plt\n",
        "\n",
        "uploaded = files.upload()\n",
        "data = pd.read_excel(\"Course_PCA.xlsx\")\n",
        "\n",
        "df = pd.DataFrame(data)"
      ]
    },
    {
      "cell_type": "markdown",
      "source": [
        "**STEP 2: Display the data read from the spreadsheet**"
      ],
      "metadata": {
        "id": "9wtri-P4UKZ3"
      }
    },
    {
      "cell_type": "code",
      "source": [
        "df"
      ],
      "metadata": {
        "id": "O5wdPgxJH7Bu"
      },
      "execution_count": null,
      "outputs": []
    },
    {
      "cell_type": "markdown",
      "source": [
        "**STEP 3: Group by Course and find the mean**"
      ],
      "metadata": {
        "id": "7ADZiuaZUr-S"
      }
    },
    {
      "cell_type": "code",
      "source": [
        "grouped = df.groupby('Course')\n",
        "mean_data = grouped.mean()\n",
        "courses = df['Course'].unique()\n",
        "mean_data = mean_data.loc[courses]"
      ],
      "metadata": {
        "id": "XJJ1bH5NH7iH"
      },
      "execution_count": 3,
      "outputs": []
    },
    {
      "cell_type": "markdown",
      "source": [
        "**STEP 4: Display the results**"
      ],
      "metadata": {
        "id": "_3_CC0vOU247"
      }
    },
    {
      "cell_type": "code",
      "source": [
        "mean_data"
      ],
      "metadata": {
        "id": "5Z7Dt4XdIBn4"
      },
      "execution_count": null,
      "outputs": []
    },
    {
      "cell_type": "markdown",
      "source": [
        "**STEP 5: Assign data to respective NumPy arrays and display it**"
      ],
      "metadata": {
        "id": "7fBvW8qaga2j"
      }
    },
    {
      "cell_type": "code",
      "source": [
        "factor1 = mean_data['Fac1'].values\n",
        "factor2 = mean_data['Fac2'].values\n",
        "factor3 = mean_data['Fac3'].values\n",
        "\n",
        "print(\"\\nMean values of Fac1:\", factor1)\n",
        "print(\"\\nMean values of Fac2:\", factor2)\n",
        "print(\"\\nMean values of Fac3:\", factor3)"
      ],
      "metadata": {
        "id": "BNR5W31pIHcT"
      },
      "execution_count": null,
      "outputs": []
    },
    {
      "cell_type": "markdown",
      "source": [
        "**STEP 6: Perform Hierarchical Cluster Analysis on the resulting data above and display dendrogram**"
      ],
      "metadata": {
        "id": "Qsm1w8VHU_qR"
      }
    },
    {
      "cell_type": "code",
      "source": [
        "data = list(zip(factor1, factor2, factor3))\n",
        "\n",
        "labels = df['Course'].values[:len(data)]\n",
        "\n",
        "linkage_data = linkage(data, method='ward', metric='euclidean')\n",
        "dendrogram(linkage_data, labels=labels, orientation='right')\n",
        "\n",
        "cluster_distances = linkage_data[:, 2]\n",
        "\n",
        "for i, distance in enumerate(cluster_distances):\n",
        "    print(f'Merge Step {i+1}: Cluster distance = {distance}')\n",
        "\n",
        "plt.xlabel('Distance')\n",
        "plt.ylabel('Course')\n",
        "plt.title('Hierarchical Clustering Dendrogram')\n",
        "plt.show()"
      ],
      "metadata": {
        "id": "9AAOfkApIImu"
      },
      "execution_count": null,
      "outputs": []
    }
  ]
}