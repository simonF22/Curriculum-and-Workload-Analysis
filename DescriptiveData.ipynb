{
  "nbformat": 4,
  "nbformat_minor": 0,
  "metadata": {
    "colab": {
      "provenance": [],
      "authorship_tag": "ABX9TyOG788kFQit2Jxh0fxo50Gc",
      "include_colab_link": true
    },
    "kernelspec": {
      "name": "python3",
      "display_name": "Python 3"
    },
    "language_info": {
      "name": "python"
    }
  },
  "cells": [
    {
      "cell_type": "markdown",
      "metadata": {
        "id": "view-in-github",
        "colab_type": "text"
      },
      "source": [
        "<a href=\"https://colab.research.google.com/github/simonF22/Curriculum-and-Workload-Analysis/blob/main/DescriptiveData.ipynb\" target=\"_parent\"><img src=\"https://colab.research.google.com/assets/colab-badge.svg\" alt=\"Open In Colab\"/></a>"
      ]
    },
    {
      "cell_type": "markdown",
      "source": [
        "**This program is designed to read a spreadsheet containing data gathered from the student survey. 50 students were each surveyed on the 10 chosen DCIT courses, therefore the spreadsheet has 500 rows of data.**"
      ],
      "metadata": {
        "id": "Ho6CG6A2aU_R"
      }
    },
    {
      "cell_type": "markdown",
      "source": [
        "**FOLLOW STEPS IN SEQUENTIAL ORDER**"
      ],
      "metadata": {
        "id": "1-gN1ECylaiA"
      }
    },
    {
      "cell_type": "markdown",
      "source": [
        "**STEP 1: Upload Spreadsheet (File can be found in GitHub Repo - \"StudentSurveyData.xlsx\")**"
      ],
      "metadata": {
        "id": "nFPZqobsl8pZ"
      }
    },
    {
      "cell_type": "code",
      "execution_count": null,
      "metadata": {
        "id": "wopeRgqE-guE"
      },
      "outputs": [],
      "source": [
        "import pandas as pd\n",
        "from google.colab import files\n",
        "\n",
        "uploaded = files.upload()\n",
        "data = pd.read_excel(\"StudentSurveyData.xlsx\")\n",
        "\n",
        "df = pd.DataFrame(data)"
      ]
    },
    {
      "cell_type": "markdown",
      "source": [
        "**STEP 2: Display the data read from the spreadsheet**"
      ],
      "metadata": {
        "id": "_7srfE3Ha8KL"
      }
    },
    {
      "cell_type": "code",
      "source": [
        "df"
      ],
      "metadata": {
        "id": "hx4zzyWRBkaG"
      },
      "execution_count": null,
      "outputs": []
    },
    {
      "cell_type": "markdown",
      "source": [
        "**STEP 3: Retrieving Descriptive Statistics for courses within Cluster A**"
      ],
      "metadata": {
        "id": "667nSPozaF45"
      }
    },
    {
      "cell_type": "code",
      "source": [
        "courses = [2601, 2602, 2606, 3602]\n",
        "\n",
        "filtered_data = df[df['CourseID'].isin(courses)]\n",
        "\n",
        "meanContactHours = filtered_data['ContactHours'].mean()\n",
        "\n",
        "meanActualStudyHours = filtered_data['ActualStudyHours'].mean()\n",
        "minActualHours = filtered_data['ActualStudyHours'].min()\n",
        "maxActualHours = filtered_data['ActualStudyHours'].max()\n",
        "\n",
        "meanMaxExpStudyHours = filtered_data['MinimumExpectedStudyHours'].mean()\n",
        "meanMinExpStudyHours = filtered_data['MaximumExpectedStudyHours'].mean()\n",
        "\n",
        "meanAssignmentDuration = filtered_data['AssignmentDuration'].mean()\n",
        "minAssignmentDuration = filtered_data['AssignmentDuration'].min()\n",
        "maxAssignmentDuration = filtered_data['AssignmentDuration'].max()\n",
        "\n",
        "meanExamDuration = filtered_data['ExamDuration'].mean()\n",
        "minExamDuration = filtered_data['ExamDuration'].min()\n",
        "maxExamDuration = filtered_data['ExamDuration'].max()\n",
        "\n",
        "meanReadingVol = filtered_data['ReadingVolume'].mean()\n",
        "minReadingVol = filtered_data['ReadingVolume'].min()\n",
        "maxReadingVol = filtered_data['ReadingVolume'].max()\n",
        "\n",
        "meanCalcVol = filtered_data['CalculationVolume'].mean()\n",
        "minCalcVol = filtered_data['CalculationVolume'].min()\n",
        "maxCalcVol = filtered_data['CalculationVolume'].max()\n",
        "\n",
        "meanCodingVol = filtered_data['CodingVolume'].mean()\n",
        "minCodingVol = filtered_data['CodingVolume'].min()\n",
        "maxCodingVol = filtered_data['CodingVolume'].max()\n",
        "\n",
        "meanResearchVol = filtered_data['ResearchReportVolume'].mean()\n",
        "minResearchVol = filtered_data['ResearchReportVolume'].min()\n",
        "maxResearchVol = filtered_data['ResearchReportVolume'].max()\n",
        "\n",
        "meanCredPercep = filtered_data['CreditPerception'].mean()\n",
        "minCredPercep = filtered_data['CreditPerception'].min()\n",
        "maxCredPercep = filtered_data['CreditPerception'].max()\n",
        "\n",
        "meanWorkloadPercep = filtered_data['WorkloadMagnitudePerception'].mean()\n",
        "minWorkloadPercep = filtered_data['WorkloadMagnitudePerception'].min()\n",
        "maxWorkloadPercep = filtered_data['WorkloadMagnitudePerception'].max()\n",
        "\n",
        "numRowsChecked = len(filtered_data)\n",
        "\n",
        "results = pd.DataFrame({\n",
        "    'Statistic': ['Number of Rows Checked',\n",
        "                  'Mean Contact Hours',\n",
        "                  'Mean Actual Study Hours', 'Minimum Actual Study Hours', 'Maximum Actual Study Hours',\n",
        "                  'Mean Assignment Duration', 'Minimum Assignment Duration', 'Maximum Assignment Duration',\n",
        "                  'Mean Exam Duration', 'Minimum Exam Duration', 'Maximum Exam Duration',\n",
        "                  'Mean Reading Volume', 'Minimum Reading Volume', 'Maximum Reading Volume',\n",
        "                  'Mean Calculation Volume', 'Minimum Calculation Volume', 'Maximum Calculation Volume',\n",
        "                  'Mean Coding Volume', 'Minimum Coding Volume', 'Maximum Coding Volume',\n",
        "                  'Mean Research/Report Volume', 'Minimum Research/Report Volume', 'Maximum Research/Report Volume',\n",
        "                  'Mean Credit Perception Volume', 'Minimum Credit Perception', 'Maximum Credit Perception',\n",
        "                  'Mean Workload Magnitude Volume', 'Minimum Workload Magnitude Perception', 'Maximum Workload Magnitude Perception'\n",
        "                  ],\n",
        "    'Value': [numRowsChecked,\n",
        "              meanContactHours,\n",
        "              meanActualStudyHours, minActualHours, maxActualHours,\n",
        "              meanAssignmentDuration, minAssignmentDuration, maxAssignmentDuration,\n",
        "              meanExamDuration, minExamDuration, maxExamDuration,\n",
        "              meanReadingVol, minReadingVol, maxReadingVol,\n",
        "              meanCalcVol, minCalcVol, maxCalcVol,\n",
        "              meanCodingVol, minCodingVol, maxCodingVol,\n",
        "              meanResearchVol, minResearchVol, maxResearchVol,\n",
        "              meanCredPercep, minCredPercep, maxCredPercep,\n",
        "              meanWorkloadPercep, minWorkloadPercep, maxWorkloadPercep\n",
        "              ]\n",
        "})\n",
        "\n",
        "results"
      ],
      "metadata": {
        "id": "TgtJTKo9Fd9q"
      },
      "execution_count": null,
      "outputs": []
    },
    {
      "cell_type": "markdown",
      "source": [
        "**STEP 4: Retrieving Descriptive Statistics for course within Cluster B**"
      ],
      "metadata": {
        "id": "afP1QvdSb_28"
      }
    },
    {
      "cell_type": "code",
      "source": [
        "course = [3603]\n",
        "\n",
        "filtered_data = df[df['CourseID'].isin(course)]\n",
        "\n",
        "meanContactHours = filtered_data['ContactHours'].mean()\n",
        "\n",
        "meanActualStudyHours = filtered_data['ActualStudyHours'].mean()\n",
        "minActualHours = filtered_data['ActualStudyHours'].min()\n",
        "maxActualHours = filtered_data['ActualStudyHours'].max()\n",
        "\n",
        "meanMaxExpStudyHours = filtered_data['MinimumExpectedStudyHours'].mean()\n",
        "meanMinExpStudyHours = filtered_data['MaximumExpectedStudyHours'].mean()\n",
        "\n",
        "meanAssignmentDuration = filtered_data['AssignmentDuration'].mean()\n",
        "minAssignmentDuration = filtered_data['AssignmentDuration'].min()\n",
        "maxAssignmentDuration = filtered_data['AssignmentDuration'].max()\n",
        "\n",
        "meanExamDuration = filtered_data['ExamDuration'].mean()\n",
        "minExamDuration = filtered_data['ExamDuration'].min()\n",
        "maxExamDuration = filtered_data['ExamDuration'].max()\n",
        "\n",
        "meanReadingVol = filtered_data['ReadingVolume'].mean()\n",
        "minReadingVol = filtered_data['ReadingVolume'].min()\n",
        "maxReadingVol = filtered_data['ReadingVolume'].max()\n",
        "\n",
        "meanCalcVol = filtered_data['CalculationVolume'].mean()\n",
        "minCalcVol = filtered_data['CalculationVolume'].min()\n",
        "maxCalcVol = filtered_data['CalculationVolume'].max()\n",
        "\n",
        "meanCodingVol = filtered_data['CodingVolume'].mean()\n",
        "minCodingVol = filtered_data['CodingVolume'].min()\n",
        "maxCodingVol = filtered_data['CodingVolume'].max()\n",
        "\n",
        "meanResearchVol = filtered_data['ResearchReportVolume'].mean()\n",
        "minResearchVol = filtered_data['ResearchReportVolume'].min()\n",
        "maxResearchVol = filtered_data['ResearchReportVolume'].max()\n",
        "\n",
        "meanCredPercep = filtered_data['CreditPerception'].mean()\n",
        "minCredPercep = filtered_data['CreditPerception'].min()\n",
        "maxCredPercep = filtered_data['CreditPerception'].max()\n",
        "\n",
        "meanWorkloadPercep = filtered_data['WorkloadMagnitudePerception'].mean()\n",
        "minWorkloadPercep = filtered_data['WorkloadMagnitudePerception'].min()\n",
        "maxWorkloadPercep = filtered_data['WorkloadMagnitudePerception'].max()\n",
        "\n",
        "numRowsChecked = len(filtered_data)\n",
        "\n",
        "results = pd.DataFrame({\n",
        "    'Statistic': ['Number of Rows Checked',\n",
        "                  'Mean Contact Hours',\n",
        "                  'Mean Actual Study Hours', 'Minimum Actual Study Hours', 'Maximum Actual Study Hours',\n",
        "                  'Mean Assignment Duration', 'Minimum Assignment Duration', 'Maximum Assignment Duration',\n",
        "                  'Mean Exam Duration', 'Minimum Exam Duration', 'Maximum Exam Duration',\n",
        "                  'Mean Reading Volume', 'Minimum Reading Volume', 'Maximum Reading Volume',\n",
        "                  'Mean Calculation Volume', 'Minimum Calculation Volume', 'Maximum Calculation Volume',\n",
        "                  'Mean Coding Volume', 'Minimum Coding Volume', 'Maximum Coding Volume',\n",
        "                  'Mean Research/Report Volume', 'Minimum Research/Report Volume', 'Maximum Research/Report Volume',\n",
        "                  'Mean Credit Perception Volume', 'Minimum Credit Perception', 'Maximum Credit Perception',\n",
        "                  'Mean Workload Magnitude Volume', 'Minimum Workload Magnitude Perception', 'Maximum Workload Magnitude Perception'\n",
        "                  ],\n",
        "    'Value': [numRowsChecked,\n",
        "              meanContactHours,\n",
        "              meanActualStudyHours, minActualHours, maxActualHours,\n",
        "              meanAssignmentDuration, minAssignmentDuration, maxAssignmentDuration,\n",
        "              meanExamDuration, minExamDuration, maxExamDuration,\n",
        "              meanReadingVol, minReadingVol, maxReadingVol,\n",
        "              meanCalcVol, minCalcVol, maxCalcVol,\n",
        "              meanCodingVol, minCodingVol, maxCodingVol,\n",
        "              meanResearchVol, minResearchVol, maxResearchVol,\n",
        "              meanCredPercep, minCredPercep, maxCredPercep,\n",
        "              meanWorkloadPercep, minWorkloadPercep, maxWorkloadPercep\n",
        "              ]\n",
        "})\n",
        "\n",
        "results"
      ],
      "metadata": {
        "id": "0fFP0skpLl2q"
      },
      "execution_count": null,
      "outputs": []
    },
    {
      "cell_type": "markdown",
      "source": [
        "**STEP 5: Retrieving Descriptive Statistics for courses within Cluster C**"
      ],
      "metadata": {
        "id": "ztJ-c4QubjI2"
      }
    },
    {
      "cell_type": "code",
      "source": [
        "courses = [2603, 2605, 2611, 2604, 3607]\n",
        "\n",
        "filtered_data = df[df['CourseID'].isin(courses)]\n",
        "\n",
        "meanContactHours = filtered_data['ContactHours'].mean()\n",
        "\n",
        "meanActualStudyHours = filtered_data['ActualStudyHours'].mean()\n",
        "minActualHours = filtered_data['ActualStudyHours'].min()\n",
        "maxActualHours = filtered_data['ActualStudyHours'].max()\n",
        "\n",
        "meanMaxExpStudyHours = filtered_data['MinimumExpectedStudyHours'].mean()\n",
        "meanMinExpStudyHours = filtered_data['MaximumExpectedStudyHours'].mean()\n",
        "\n",
        "meanAssignmentDuration = filtered_data['AssignmentDuration'].mean()\n",
        "minAssignmentDuration = filtered_data['AssignmentDuration'].min()\n",
        "maxAssignmentDuration = filtered_data['AssignmentDuration'].max()\n",
        "\n",
        "meanExamDuration = filtered_data['ExamDuration'].mean()\n",
        "minExamDuration = filtered_data['ExamDuration'].min()\n",
        "maxExamDuration = filtered_data['ExamDuration'].max()\n",
        "\n",
        "meanReadingVol = filtered_data['ReadingVolume'].mean()\n",
        "minReadingVol = filtered_data['ReadingVolume'].min()\n",
        "maxReadingVol = filtered_data['ReadingVolume'].max()\n",
        "\n",
        "meanCalcVol = filtered_data['CalculationVolume'].mean()\n",
        "minCalcVol = filtered_data['CalculationVolume'].min()\n",
        "maxCalcVol = filtered_data['CalculationVolume'].max()\n",
        "\n",
        "meanCodingVol = filtered_data['CodingVolume'].mean()\n",
        "minCodingVol = filtered_data['CodingVolume'].min()\n",
        "maxCodingVol = filtered_data['CodingVolume'].max()\n",
        "\n",
        "meanResearchVol = filtered_data['ResearchReportVolume'].mean()\n",
        "minResearchVol = filtered_data['ResearchReportVolume'].min()\n",
        "maxResearchVol = filtered_data['ResearchReportVolume'].max()\n",
        "\n",
        "meanCredPercep = filtered_data['CreditPerception'].mean()\n",
        "minCredPercep = filtered_data['CreditPerception'].min()\n",
        "maxCredPercep = filtered_data['CreditPerception'].max()\n",
        "\n",
        "meanWorkloadPercep = filtered_data['WorkloadMagnitudePerception'].mean()\n",
        "minWorkloadPercep = filtered_data['WorkloadMagnitudePerception'].min()\n",
        "maxWorkloadPercep = filtered_data['WorkloadMagnitudePerception'].max()\n",
        "\n",
        "numRowsChecked = len(filtered_data)\n",
        "\n",
        "results = pd.DataFrame({\n",
        "    'Statistic': ['Number of Rows Checked',\n",
        "                  'Mean Contact Hours',\n",
        "                  'Mean Actual Study Hours', 'Minimum Actual Study Hours', 'Maximum Actual Study Hours',\n",
        "                  'Mean Minimum Expected Study Hours', 'Mean Maximum Expected Hours',\n",
        "                  'Mean Assignment Duration', 'Minimum Assignment Duration', 'Maximum Assignment Duration',\n",
        "                  'Mean Exam Duration', 'Minimum Exam Duration', 'Maximum Exam Duration',\n",
        "                  'Mean Reading Volume', 'Minimum Reading Volume', 'Maximum Reading Volume',\n",
        "                  'Mean Calculation Volume', 'Minimum Calculation Volume', 'Maximum Calculation Volume',\n",
        "                  'Mean Coding Volume', 'Minimum Coding Volume', 'Maximum Coding Volume',\n",
        "                  'Mean Research/Report Volume', 'Minimum Research/Report Volume', 'Maximum Research/Report Volume',\n",
        "                  'Mean Credit Perception Volume', 'Minimum Credit Perception', 'Maximum Credit Perception',\n",
        "                  'Mean Workload Magnitude Volume', 'Minimum Workload Magnitude Perception', 'Maximum Workload Magnitude Perception'\n",
        "                  ],\n",
        "    'Value': [numRowsChecked,\n",
        "              meanContactHours,\n",
        "              meanActualStudyHours, minActualHours, maxActualHours,\n",
        "              meanMinExpStudyHours, meanMaxExpStudyHours,\n",
        "              meanAssignmentDuration, minAssignmentDuration, maxAssignmentDuration,\n",
        "              meanExamDuration, minExamDuration, maxExamDuration,\n",
        "              meanReadingVol, minReadingVol, maxReadingVol,\n",
        "              meanCalcVol, minCalcVol, maxCalcVol,\n",
        "              meanCodingVol, minCodingVol, maxCodingVol,\n",
        "              meanResearchVol, minResearchVol, maxResearchVol,\n",
        "              meanCredPercep, minCredPercep, maxCredPercep,\n",
        "              meanWorkloadPercep, minWorkloadPercep, maxWorkloadPercep\n",
        "              ]\n",
        "})\n",
        "\n",
        "results"
      ],
      "metadata": {
        "id": "2fVSVHDILA1N"
      },
      "execution_count": null,
      "outputs": []
    }
  ]
}